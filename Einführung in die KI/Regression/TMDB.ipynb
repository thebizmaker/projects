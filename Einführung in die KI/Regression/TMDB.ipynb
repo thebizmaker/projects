{
 "cells": [
  {
   "cell_type": "code",
   "execution_count": 5,
   "id": "3606af90-eb65-4100-ac24-38c5e9771f2b",
   "metadata": {},
   "outputs": [
    {
     "name": "stdout",
     "output_type": "stream",
     "text": [
      "Accuracy: -0.134028\n"
     ]
    }
   ],
   "source": [
    "import pandas as pd\n",
    "import numpy as np\n",
    "from sklearn.svm import SVR\n",
    "from sklearn.impute import SimpleImputer\n",
    "from sklearn.model_selection import cross_val_score, train_test_split\n",
    "\n",
    "# Laden der Datensätze\n",
    "train_data = pd.read_csv('data/train.csv')\n",
    "test_data = pd.read_csv('data/test.csv')\n",
    "\n",
    "# print(test_data.info())\n",
    "# print(train_data.describe())\n",
    "\n",
    "y = train_data['revenue']\n",
    "\n",
    "imp = SimpleImputer(missing_values=np.nan, strategy=\"mean\")\n",
    "train_data['runtime'] = imp.fit_transform(train_data[['runtime']])\n",
    "\n",
    "features = ['budget', 'popularity', 'runtime']\n",
    "\n",
    "X = train_data[features]\n",
    "\n",
    "# X_train, X_test, y_train, y_test = train_test_split(X, y, test_size=0.2, random_state=42)\n",
    "\n",
    "# Erzeugen und Trainieren des Regressionsmodells\n",
    "model = SVR()\n",
    "model.fit(X, y)\n",
    "\n",
    "# Modell evaluieren\n",
    "scores = cross_val_score(model, X, y)\n",
    "print(f'Accuracy: {(scores.mean()):2f}')\n",
    "\n",
    "test_data['runtime'] = imp.fit_transform(test_data[['runtime']])\n",
    "X_test = test_data[features]\n",
    "\n",
    "# Vorhersage des Labels für den Test-Datensatz\n",
    "predictions = model.predict(X_test)\n",
    "\n",
    "output = pd.DataFrame({'id': test_data.id, 'revenue': predictions})\n",
    "output.to_csv('data/submission.csv', index=False)"
   ]
  }
 ],
 "metadata": {
  "kernelspec": {
   "display_name": "Python 3",
   "language": "python",
   "name": "python3"
  },
  "language_info": {
   "codemirror_mode": {
    "name": "ipython",
    "version": 3
   },
   "file_extension": ".py",
   "mimetype": "text/x-python",
   "name": "python",
   "nbconvert_exporter": "python",
   "pygments_lexer": "ipython3",
   "version": "3.12.2"
  }
 },
 "nbformat": 4,
 "nbformat_minor": 5
}
