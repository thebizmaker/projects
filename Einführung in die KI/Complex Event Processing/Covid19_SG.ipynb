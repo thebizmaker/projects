{
 "cells": [
  {
   "cell_type": "code",
   "execution_count": null,
   "metadata": {},
   "outputs": [],
   "source": [
    "import pandas as pd\n",
    "from datetime import datetime\n",
    "import matplotlib.pyplot as plt\n",
    "\n",
    "\n",
    "df = pd.read_csv('Covid-19_SG.csv')\n",
    "\n",
    "# print(df.head())\n",
    "\n",
    "population = 5686000\n",
    "# print(df.info())\n",
    "\n",
    "# Convert the 'Date' column to datetime format\n",
    "df.index = df['Date'].apply(lambda x: datetime.strptime(x, '%Y-%m-%d'))\n",
    "#df['Date'] = pd.to_datetime(df['Date'])\n",
    "\n",
    "df['7inc'] = df['Daily Confirmed'].rolling(window=7).sum() * 100000 / population\n",
    "\n",
    "x = df.index\n",
    "y = df['7inc']\n",
    "\n",
    "plt.figure(figsize=(12, 6))\n",
    "plt.plot(x, y, label='7-Tage-Inzidenz')\n",
    "plt.xlabel('Datum')\n",
    "plt.ylabel('7-Tage-Inzidenz')\n",
    "plt.xticks(rotation=45)\n",
    "plt.title('7-Tage-Inzidenz in Singapore')\n",
    "plt.axhline(y=100, color='black')\n",
    "plt.axhline(y=200, color='black')\n",
    "plt.axhline(y=300, color='black')\n",
    "plt.axhline(y=400, color='black')\n",
    "plt.axhline(y=500, color='black')\n",
    "plt.tight_layout()\n",
    "plt.show()\n"
   ]
  },
  {
   "cell_type": "code",
   "execution_count": null,
   "metadata": {},
   "outputs": [],
   "source": [
    "df['hospitalization_rate'] = df['Still Hospitalised'] / df['Daily Confirmed']\n",
    "\n",
    "y = df['hospitalization_rate']\n",
    "\n",
    "plt.figure(figsize=(12, 6))\n",
    "plt.plot(x, y, label='Hospitalization Rate')\n",
    "plt.xlabel('Date')\n",
    "plt.ylabel('Hospitalization Rate')\n",
    "plt.xticks(rotation=45)\n",
    "plt.title('Hospitalization Rate in Singapore')\n",
    "plt.tight_layout()\n",
    "plt.show()"
   ]
  },
  {
   "cell_type": "code",
   "execution_count": null,
   "metadata": {},
   "outputs": [],
   "source": [
    "df['criticality'] = df['Intensive Care Unit (ICU)'] / df['Still Hospitalised']\n",
    "\n",
    "y = df['criticality']\n",
    "\n",
    "plt.figure(figsize=(12, 6))\n",
    "plt.plot(x, y, label='Criticality')\n",
    "plt.xlabel('Date')\n",
    "plt.ylabel('Criticality')\n",
    "plt.xticks(rotation=45)\n",
    "plt.title('Criticality in Singapore')\n",
    "plt.tight_layout()\n",
    "plt.show()"
   ]
  },
  {
   "cell_type": "code",
   "execution_count": null,
   "metadata": {},
   "outputs": [],
   "source": [
    "df['mortality_rate'] = df['Daily Deaths'] / df['Daily Confirmed']\n",
    "\n",
    "y = df['mortality_rate']\n",
    "\n",
    "plt.figure(figsize=(12, 6))\n",
    "plt.plot(x, y, label='Mortality Rate')\n",
    "plt.xlabel('Date')\n",
    "plt.ylabel('Mortality Rate')\n",
    "plt.xticks(rotation=45)\n",
    "plt.title('Mortality Rate in Singapore')\n",
    "plt.tight_layout()\n",
    "plt.show()"
   ]
  }
 ],
 "metadata": {
  "kernelspec": {
   "display_name": "Python 3",
   "language": "python",
   "name": "python3"
  },
  "language_info": {
   "codemirror_mode": {
    "name": "ipython",
    "version": 3
   },
   "file_extension": ".py",
   "mimetype": "text/x-python",
   "name": "python",
   "nbconvert_exporter": "python",
   "pygments_lexer": "ipython3",
   "version": "3.12.3"
  }
 },
 "nbformat": 4,
 "nbformat_minor": 2
}
