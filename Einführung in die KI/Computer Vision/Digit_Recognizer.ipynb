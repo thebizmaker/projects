{
 "cells": [
  {
   "cell_type": "code",
   "execution_count": 18,
   "metadata": {},
   "outputs": [
    {
     "name": "stderr",
     "output_type": "stream",
     "text": [
      "c:\\Users\\Dester\\AppData\\Local\\Programs\\Python\\Python312\\Lib\\site-packages\\keras\\src\\layers\\convolutional\\base_conv.py:107: UserWarning: Do not pass an `input_shape`/`input_dim` argument to a layer. When using Sequential models, prefer using an `Input(shape)` object as the first layer in the model instead.\n",
      "  super().__init__(activity_regularizer=activity_regularizer, **kwargs)\n"
     ]
    },
    {
     "name": "stdout",
     "output_type": "stream",
     "text": [
      "\u001b[1m420/420\u001b[0m \u001b[32m━━━━━━━━━━━━━━━━━━━━\u001b[0m\u001b[37m\u001b[0m \u001b[1m3s\u001b[0m 7ms/step - accuracy: 0.8492 - loss: 0.4614\n",
      "\u001b[1m315/315\u001b[0m \u001b[32m━━━━━━━━━━━━━━━━━━━━\u001b[0m\u001b[37m\u001b[0m \u001b[1m2s\u001b[0m 7ms/step - accuracy: 0.9829 - loss: 0.0535\n",
      "\u001b[1m329/329\u001b[0m \u001b[32m━━━━━━━━━━━━━━━━━━━━\u001b[0m\u001b[37m\u001b[0m \u001b[1m1s\u001b[0m 2ms/step - accuracy: 0.9845 - loss: 0.0447\n",
      "Test loss: [0.04630384221673012, 0.9852380752563477]\n",
      "\u001b[1m875/875\u001b[0m \u001b[32m━━━━━━━━━━━━━━━━━━━━\u001b[0m\u001b[37m\u001b[0m \u001b[1m1s\u001b[0m 1ms/step\n"
     ]
    }
   ],
   "source": [
    "import pandas as pd\n",
    "import numpy as np\n",
    "from tensorflow.keras.models import Sequential\n",
    "from tensorflow.keras.layers import Conv2D, MaxPooling2D, Flatten, Dense\n",
    "from tensorflow.keras.utils import to_categorical\n",
    "from sklearn.model_selection import train_test_split\n",
    "from tensorflow.keras.optimizers import RMSprop\n",
    "\n",
    "\n",
    "train = pd.read_csv('data/train.csv')\n",
    "test = pd.read_csv('data/test.csv')\n",
    "\n",
    "# Vorverarbeitung der Train-Daten\n",
    "\n",
    "# Split features and labels in training set\n",
    "X = train.drop(labels=['label'], axis=1)\n",
    "y = train['label']\n",
    "# One hot encode labels\n",
    "Y = to_categorical(y, num_classes=10)\n",
    "# Normalize pixel data\n",
    "X = X / 255.0\n",
    "# Reshape image in 3 dimensions (height = 28px, width = 28px, canal = 1)\n",
    "X = X.values.reshape(-1, 28, 28, 1)\n",
    "\n",
    "# Vorverarbeitung der Test-Daten\n",
    "\n",
    "# Normalize pixel data\n",
    "test = test / 255.0\n",
    "# Reshape image in 3 dimensions (height = 28px, width = 28px, canal = 1)\n",
    "test = test.values.reshape(-1, 28, 28, 1)\n",
    "\n",
    "\n",
    "# Create model\n",
    "model = Sequential([\n",
    "    Conv2D(32, (3, 3), activation='relu', input_shape=(28, 28, 1)),\n",
    "    MaxPooling2D(pool_size=(2, 2)),\n",
    "    Conv2D(64, (3, 3), activation='relu'),\n",
    "    MaxPooling2D(pool_size=(2, 2)),\n",
    "    Flatten(),\n",
    "    Dense(512, activation='relu'),\n",
    "    Dense(10, activation='softmax')\n",
    "])\n",
    "\n",
    "# Train the model\n",
    "\n",
    "model.compile(optimizer=RMSprop(), loss='categorical_crossentropy', metrics=['accuracy'])\n",
    "history = model.fit(X, Y, epochs=1, batch_size=100)\n",
    "\n",
    "# Evaluate the model\n",
    "\n",
    "# Split the data in training and test set\n",
    "X_train, X_test, Y_train, Y_test = train_test_split(X, Y)\n",
    "# Train the model\n",
    "history = model.fit(X_train, Y_train, epochs=1, batch_size=100)\n",
    "# Evaluate the model\n",
    "score = model.evaluate(X_test, Y_test)\n",
    "print('Test loss:', score)\n",
    "\n",
    "# Make predictions and submitting the results\n",
    "results = model.predict(test)\n",
    "results = np.argmax(results, axis=1)\n",
    "results = pd.Series(results, name='Label')\n",
    "submission = pd.concat([pd.Series(range(1, len(results)+1), name='ImageId'), results], axis=1)\n",
    "submission.to_csv('data/submission.csv', index=False)"
   ]
  }
 ],
 "metadata": {
  "kernelspec": {
   "display_name": "Python 3",
   "language": "python",
   "name": "python3"
  },
  "language_info": {
   "codemirror_mode": {
    "name": "ipython",
    "version": 3
   },
   "file_extension": ".py",
   "mimetype": "text/x-python",
   "name": "python",
   "nbconvert_exporter": "python",
   "pygments_lexer": "ipython3",
   "version": "3.12.3"
  }
 },
 "nbformat": 4,
 "nbformat_minor": 2
}
