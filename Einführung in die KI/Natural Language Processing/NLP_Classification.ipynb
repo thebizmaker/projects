{
 "cells": [
  {
   "cell_type": "code",
   "execution_count": null,
   "metadata": {},
   "outputs": [
    {
     "name": "stdout",
     "output_type": "stream",
     "text": [
      "Kreuzvalidierung - Durchschnittliche Accuracy: 0.665\n",
      "Optimierte Kreuzvalidierung - Durchschnittliche Accuracy: 0.664\n"
     ]
    }
   ],
   "source": [
    "import pandas as pd\n",
    "import csv\n",
    "from sklearn.feature_extraction.text import TfidfVectorizer\n",
    "from sklearn.model_selection import train_test_split, cross_val_score\n",
    "from sklearn.naive_bayes import MultinomialNB\n",
    "from sklearn.pipeline import make_pipeline\n",
    "#from sklearn.metrics import accuracy_score\n",
    "\n",
    "data = pd.read_csv('data/Movie_Overview_Classification.csv',\n",
    "encoding='utf8',\n",
    "delimiter=',',\n",
    "quotechar='|',\n",
    "quoting=csv.QUOTE_MINIMAL)\n",
    "\n",
    "# Datenvorverarbeitung\n",
    "# Drop rows with missing values\n",
    "data = data.dropna()\n",
    "# Daten in Features und Zielvariable aufteilen\n",
    "X = data['overview']\n",
    "y = data['genre_Drama']\n",
    "\n",
    "# Klassifikation implementieren\n",
    "# Split data into training and test sets\n",
    "X_train, X_test, y_train, y_test = train_test_split(X, y)\n",
    "# Pipeline erstellen\n",
    "model = make_pipeline(TfidfVectorizer(), MultinomialNB())\n",
    "model.fit(X_train, y_train)\n",
    "# Prediction and evaluation\n",
    "y_pred = model.predict(X_test)\n",
    "# accuracy = accuracy_score(y_test, y_pred)\n",
    "# print(f'Accuracy: {accuracy:.2f}')\n",
    "\n",
    "# Kreuzvalidierung\n",
    "scores = cross_val_score(model, X, y, cv=5)\n",
    "print(f'Kreuzvalidierung - Durchschnittliche Accuracy: {scores.mean():.3f}')\n",
    "\n",
    "# Optimierung\n",
    "pipeline = make_pipeline(\n",
    "    TfidfVectorizer(max_features=5000, ngram_range=(1, 2)),\n",
    "    MultinomialNB(alpha=0.1)\n",
    ")\n",
    "cv_scores = cross_val_score(pipeline, X, y, cv=5)\n",
    "print(f'Optimierte Kreuzvalidierung - Durchschnittliche Accuracy: {cv_scores.mean():.3f}')\n"
   ]
  }
 ],
 "metadata": {
  "kernelspec": {
   "display_name": "Python 3",
   "language": "python",
   "name": "python3"
  },
  "language_info": {
   "codemirror_mode": {
    "name": "ipython",
    "version": 3
   },
   "file_extension": ".py",
   "mimetype": "text/x-python",
   "name": "python",
   "nbconvert_exporter": "python",
   "pygments_lexer": "ipython3",
   "version": "3.12.3"
  }
 },
 "nbformat": 4,
 "nbformat_minor": 2
}
